{
 "cells": [
  {
   "cell_type": "code",
   "execution_count": 2,
   "metadata": {},
   "outputs": [
    {
     "name": "stdout",
     "output_type": "stream",
     "text": [
      "4\n",
      "3 2 1 3\n",
      "2\n"
     ]
    }
   ],
   "source": [
    "n = int(input())\n",
    "count = 0\n",
    "if 1 <= n <= 100000:\n",
    "    ar = [int(x) for x in input().split(\" \")]\n",
    "    if 1 <= len(ar) <= 10000000:\n",
    "        max_ = max(ar)\n",
    "        for i in range(len(ar)):\n",
    "            if ar[i] == max_:\n",
    "                count += 1\n",
    "        print(count)\n",
    "    else:\n",
    "        print(\"Candles are more than expected....\")\n",
    "else:\n",
    "    print(\"Cannot put {} candles on the cake\".format(n))"
   ]
  }
 ],
 "metadata": {
  "kernelspec": {
   "display_name": "Python 3",
   "language": "python",
   "name": "python3"
  },
  "language_info": {
   "codemirror_mode": {
    "name": "ipython",
    "version": 3
   },
   "file_extension": ".py",
   "mimetype": "text/x-python",
   "name": "python",
   "nbconvert_exporter": "python",
   "pygments_lexer": "ipython3",
   "version": "3.8.2"
  }
 },
 "nbformat": 4,
 "nbformat_minor": 4
}
