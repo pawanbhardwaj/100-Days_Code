{
 "cells": [
  {
   "cell_type": "code",
   "execution_count": 2,
   "metadata": {},
   "outputs": [
    {
     "name": "stdout",
     "output_type": "stream",
     "text": [
      "[2, 1.5, 2, 3.0, 2, 2.0, 2]\n"
     ]
    }
   ],
   "source": [
    "def running_median(stream):\n",
    "    output = []\n",
    "    sort = []\n",
    "    for x in range(len(stream)):\n",
    "        if x == 0:\n",
    "            output.append(stream[x])\n",
    "            sort.append(stream[x])\n",
    "        elif (x+1) % 2 == 0:\n",
    "            sort.append(stream[x])\n",
    "            sort = sorted(sort)\n",
    "            output.append((sort[x//2] + sort[x//2 + 1])/2)\n",
    "        else:\n",
    "            sort.append(stream[x])\n",
    "            sort = sorted(sort)\n",
    "            output.append(sort[x//2])\n",
    "    print(output)\n",
    "\n",
    "running_median([2,1,4,7,2,0,5])"
   ]
  }
 ],
 "metadata": {
  "kernelspec": {
   "display_name": "Python 3",
   "language": "python",
   "name": "python3"
  },
  "language_info": {
   "codemirror_mode": {
    "name": "ipython",
    "version": 3
   },
   "file_extension": ".py",
   "mimetype": "text/x-python",
   "name": "python",
   "nbconvert_exporter": "python",
   "pygments_lexer": "ipython3",
   "version": "3.8.2"
  }
 },
 "nbformat": 4,
 "nbformat_minor": 4
}
