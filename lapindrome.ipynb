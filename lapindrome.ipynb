{
 "cells": [
  {
   "cell_type": "code",
   "execution_count": 1,
   "metadata": {},
   "outputs": [
    {
     "name": "stdout",
     "output_type": "stream",
     "text": [
      "6\n",
      "gaga\n",
      "Yes\n",
      "rotor\n",
      "Yes\n",
      "pawan\n",
      "No\n",
      "abab\n",
      "Yes\n",
      "cdah\n",
      "No\n",
      "dfdf\n",
      "Yes\n"
     ]
    }
   ],
   "source": [
    "T = int(input())\n",
    "if 1 <= T <=100:\n",
    "    for i in range(0,T):\n",
    "        str = input()\n",
    "        l = int(len(str))\n",
    "        if 2 <= l <=1000:\n",
    "            if l%2==0:\n",
    "                if sorted(str[:l//2])==sorted(str[l//2:]):\n",
    "                    print(\"Yes\")\n",
    "                else:\n",
    "                    print(\"No\")\n",
    "            else:\n",
    "                if sorted(str[:l//2])==sorted(str[l//2+1:]):\n",
    "                    print(\"Yes\")\n",
    "                else:\n",
    "                    print(\"No\")\n",
    "        else:\n",
    "            print(\"Invalid Input.... Length of the string must be greater than 1\")\n",
    "else:\n",
    "    print(\"Error....Number of inputs must be greater than 0\")"
   ]
  },
  {
   "cell_type": "code",
   "execution_count": null,
   "metadata": {},
   "outputs": [],
   "source": []
  }
 ],
 "metadata": {
  "kernelspec": {
   "display_name": "Python 3",
   "language": "python",
   "name": "python3"
  },
  "language_info": {
   "codemirror_mode": {
    "name": "ipython",
    "version": 3
   },
   "file_extension": ".py",
   "mimetype": "text/x-python",
   "name": "python",
   "nbconvert_exporter": "python",
   "pygments_lexer": "ipython3",
   "version": "3.8.1"
  }
 },
 "nbformat": 4,
 "nbformat_minor": 4
}
