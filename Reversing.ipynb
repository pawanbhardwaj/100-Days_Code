{
 "cells": [
  {
   "cell_type": "code",
   "execution_count": 1,
   "metadata": {},
   "outputs": [
    {
     "name": "stdout",
     "output_type": "stream",
     "text": [
      "5\n",
      "5452\n",
      "2545\n",
      "6563\n",
      "3656\n",
      "965323\n",
      "323569\n",
      "6352\n",
      "2536\n",
      "653\n",
      "356\n"
     ]
    }
   ],
   "source": [
    "\n",
    "T = int(input())\n",
    "if 1 <= T <= 1000:\n",
    "    for i in range(0,T):\n",
    "        N = int(input())\n",
    "        if 1 <= N <= 1000000:\n",
    "            rev = 0\n",
    "            while(N != 0):\n",
    "                temp = N % 10\n",
    "                N = N // 10\n",
    "                rev = rev*10 + temp\n",
    "            print(rev)"
   ]
  },
  {
   "cell_type": "code",
   "execution_count": null,
   "metadata": {},
   "outputs": [],
   "source": []
  }
 ],
 "metadata": {
  "kernelspec": {
   "display_name": "Python 3",
   "language": "python",
   "name": "python3"
  },
  "language_info": {
   "codemirror_mode": {
    "name": "ipython",
    "version": 3
   },
   "file_extension": ".py",
   "mimetype": "text/x-python",
   "name": "python",
   "nbconvert_exporter": "python",
   "pygments_lexer": "ipython3",
   "version": "3.8.1"
  }
 },
 "nbformat": 4,
 "nbformat_minor": 4
}
