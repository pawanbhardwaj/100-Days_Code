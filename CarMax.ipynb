{
 "cells": [
  {
   "cell_type": "code",
   "execution_count": 2,
   "metadata": {},
   "outputs": [
    {
     "name": "stdout",
     "output_type": "stream",
     "text": [
      "3\n",
      "1\n",
      "10\n",
      "1\n",
      "3\n",
      "8 3 6\n",
      "2\n",
      "5\n",
      "4 5 1 2 3\n",
      "2\n"
     ]
    }
   ],
   "source": [
    "T = int(input())\n",
    "if 1 <= T <= 100:\n",
    "    for i in range(0,T):\n",
    "        count = 1\n",
    "        N = int(input())\n",
    "        if 1 <= N <= 10000:\n",
    "            l = [int(x) for x in input().split()]\n",
    "            if N == 1 and len(l) == N:\n",
    "                print(count)\n",
    "            elif len(l) > N:\n",
    "                print(\"No. of cars you entered are more than the expected value\")\n",
    "            elif len(l) < N:\n",
    "                print(\"No. of cars you entered are less than the expected value\")\n",
    "            else:\n",
    "                for j in range(1,len(l)):\n",
    "                    flag = 0\n",
    "                    for k in range(0,j):\n",
    "                        if l[j] > l[k]:\n",
    "                            flag = 0\n",
    "                            break\n",
    "                        else:\n",
    "                            flag = 1\n",
    "                    if flag == 1:\n",
    "                        count += 1\n",
    "                print(count)\n",
    "            \n"
   ]
  },
  {
   "cell_type": "code",
   "execution_count": null,
   "metadata": {},
   "outputs": [],
   "source": []
  }
 ],
 "metadata": {
  "kernelspec": {
   "display_name": "Python 3",
   "language": "python",
   "name": "python3"
  },
  "language_info": {
   "codemirror_mode": {
    "name": "ipython",
    "version": 3
   },
   "file_extension": ".py",
   "mimetype": "text/x-python",
   "name": "python",
   "nbconvert_exporter": "python",
   "pygments_lexer": "ipython3",
   "version": "3.8.1"
  }
 },
 "nbformat": 4,
 "nbformat_minor": 4
}
